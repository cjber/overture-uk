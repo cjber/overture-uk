{
  "cells": [
    {
      "cell_type": "raw",
      "metadata": {},
      "source": [
        "---\n",
        "title: Tesco Locations\n",
        "author: Cillian Berragan\n",
        "date: last-modified\n",
        "toc: true\n",
        "format: \n",
        "  ipynb: default\n",
        "---"
      ],
      "id": "d4d5adb8"
    },
    {
      "cell_type": "markdown",
      "metadata": {},
      "source": [
        "The following document demonstrates the ability to easily query the cleaned UK dataset for Tesco shop locations.\n",
        "\n",
        "## Analysis\n",
        "\n",
        "1. Import the required libraries."
      ],
      "id": "f2f9086e"
    },
    {
      "cell_type": "code",
      "metadata": {},
      "source": [
        "import geopandas as gpd\n",
        "import matplotlib.pyplot as plt"
      ],
      "id": "46d27ff2",
      "execution_count": null,
      "outputs": []
    },
    {
      "cell_type": "markdown",
      "metadata": {},
      "source": [
        "2. Read in the dataset using `geopandas` and print the first 5 rows.\n",
        "    - Mask using the extent of the UK to remove outside points\n",
        "    - Filter to only show rows that are brands\n",
        "    - Only show some interesting columns\n",
        "\n",
        "> _**NOTE:** The Local Authority Boundaries for the United Kingdom is available [here](https://geoportal.statistics.gov.uk/datasets/ons::local-authority-districts-may-2023-boundaries-uk-buc/explore)._"
      ],
      "id": "f0bb26c0"
    },
    {
      "cell_type": "code",
      "metadata": {},
      "source": [
        "mask = gpd.GeoSeries(gpd.read_file(\"~/data/LAD_BUC_2022.gpkg\").unary_union, crs=27700)\n",
        "columns = [\"names_value\", \"category_main\", \"brand_name_value\", \"geometry\"]\n",
        "\n",
        "df = gpd.read_parquet(\"\", columns=columns)\n",
        "df = df.to_crs(27700).clip(mask=mask)\n",
        "print(df.head())"
      ],
      "id": "40fd1db7",
      "execution_count": null,
      "outputs": []
    },
    {
      "cell_type": "markdown",
      "metadata": {},
      "source": [
        "3. Show number of Tesco locations"
      ],
      "id": "f78c91e1"
    },
    {
      "cell_type": "code",
      "metadata": {},
      "source": [
        "tesco = df.loc[df[\"brand_name_value\"] == \"Tesco\"]\n",
        "len(tesco)"
      ],
      "id": "eee5c3ad",
      "execution_count": null,
      "outputs": []
    },
    {
      "cell_type": "markdown",
      "metadata": {},
      "source": [
        "4. Plot Tesco points"
      ],
      "id": "61af2e08"
    },
    {
      "cell_type": "code",
      "metadata": {},
      "source": [
        "fig, ax = plt.subplots(figsize=(10, 10))\n",
        "\n",
        "gpd.GeoSeries(mask).plot(facecolor=\"lightgrey\", edgecolor=\"black\", ax=ax)\n",
        "tesco.plot(\n",
        "    \"names_value\",\n",
        "    ax=ax,\n",
        "    legend=True,\n",
        "    legend_kwds={\"frameon\": False},\n",
        "    markersize=1,\n",
        ")\n",
        "\n",
        "ax.axis(\"off\")\n",
        "plt.show()"
      ],
      "id": "0fffa86b",
      "execution_count": null,
      "outputs": []
    }
  ],
  "metadata": {
    "kernelspec": {
      "name": "python3",
      "language": "python",
      "display_name": "Python 3 (ipykernel)"
    }
  },
  "nbformat": 4,
  "nbformat_minor": 5
}